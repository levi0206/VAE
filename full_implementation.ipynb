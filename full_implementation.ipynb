{
 "cells": [
  {
   "cell_type": "markdown",
   "metadata": {},
   "source": [
    "Import modules"
   ]
  },
  {
   "cell_type": "code",
   "execution_count": 1,
   "metadata": {},
   "outputs": [],
   "source": [
    "from lib.datasets import get_stock_price,train_test_split\n",
    "from lib.aug import apply_augmentations,parse_augmentations,sig_normal\n",
    "import torch\n",
    "from torch import nn\n",
    "import torch.nn.functional as F\n",
    "from lib.utils import set_seed\n",
    "import signatory\n",
    "from models.vae import VAE, VAE_train\n",
    "from models.betavae import BetaVAE, BetaVAE_train\n",
    "from models.infovae import InfoVAE, InfoVAE_train\n",
    "from models.cvae import CVAE, CAVE_train\n",
    "from lib.metrics import mmd_loss"
   ]
  },
  {
   "cell_type": "code",
   "execution_count": 2,
   "metadata": {},
   "outputs": [],
   "source": [
    "set_seed(0)"
   ]
  },
  {
   "cell_type": "markdown",
   "metadata": {},
   "source": [
    "The considered truncated signature degree."
   ]
  },
  {
   "cell_type": "code",
   "execution_count": 3,
   "metadata": {},
   "outputs": [],
   "source": [
    "sig_degree = [3,4,5]"
   ]
  },
  {
   "cell_type": "code",
   "execution_count": 4,
   "metadata": {},
   "outputs": [],
   "source": [
    "data_config = {\n",
    "    \"ticker\" : \"^GSPC\",\n",
    "    \"interval\" : \"1d\",\n",
    "    \"column\" : 1,  \n",
    "    \"window_size\" : 20,\n",
    "    \"dir\" : \"datasets\",\n",
    "    \"subdir\" : \"stock\"\n",
    "}\n",
    "sig_config = {\n",
    "    \"augmentations\": [{\"name\": \"LeadLag\"}],\n",
    "    \"device\" : \"cuda\",\n",
    "    \"depth\" : sig_degree[0],\n",
    "}"
   ]
  },
  {
   "cell_type": "markdown",
   "metadata": {},
   "source": [
    "Get path augmentations."
   ]
  },
  {
   "cell_type": "code",
   "execution_count": 5,
   "metadata": {},
   "outputs": [],
   "source": [
    "if sig_config[\"augmentations\"] is not None:\n",
    "    sig_config[\"augmentations\"] = parse_augmentations(sig_config.get('augmentations'))"
   ]
  },
  {
   "cell_type": "markdown",
   "metadata": {},
   "source": [
    "Data preprocessing.\n",
    "- Split training data and testing data.\n",
    "- Apply path augmentations to original path.\n",
    "- Calculate signature.\n",
    "- Normalize signatures.\n",
    "- Pass to CUDA."
   ]
  },
  {
   "cell_type": "code",
   "execution_count": 6,
   "metadata": {},
   "outputs": [
    {
     "name": "stdout",
     "output_type": "stream",
     "text": [
      "Rolled data for training, shape torch.Size([1232, 20, 1])\n",
      "x_real_train shape torch.Size([985, 20, 1]), x_real_test shape torch.Size([247, 20, 1])\n",
      "torch.Size([985, 39, 2])\n",
      "torch.Size([247, 39, 2])\n",
      "After augmentation shape: torch.Size([985, 39, 2])\n",
      "x_sig_train shape torch.Size([985, 14]), x_sig_test shape torch.Size([247, 14])\n",
      "input_dim: 14\n"
     ]
    }
   ],
   "source": [
    "tensor_data = get_stock_price(data_config)\n",
    "x_real_train, x_real_test = train_test_split(tensor_data, train_test_ratio=0.8, device=sig_config[\"device\"])\n",
    "print(\"x_real_train shape {}, x_real_test shape {}\".format(x_real_train.shape,x_real_test.shape))\n",
    "\n",
    "if sig_config[\"augmentations\"] is not None:\n",
    "    # Print the tensor shape after each augmentation\n",
    "    x_aug_train, x_aug_test = apply_augmentations(x_real_train,sig_config[\"augmentations\"]), apply_augmentations(x_real_test,sig_config[\"augmentations\"])\n",
    "print(\"After augmentation shape:\",x_aug_train.shape)\n",
    "\n",
    "# To signature\n",
    "x_sig_train, x_sig_test = signatory.signature(x_aug_train,sig_config[\"depth\"]),signatory.signature(x_aug_test,sig_config[\"depth\"])\n",
    "print(\"x_sig_train shape {}, x_sig_test shape {}\".format(x_sig_train.shape,x_sig_test.shape))\n",
    "input_dim = x_sig_train.shape[1]\n",
    "print(\"input_dim: {}\".format(input_dim))\n",
    "\n",
    "# Normalize\n",
    "x_sig_train, x_sig_test = sig_normal(x_sig_train,True), sig_normal(x_sig_test,True)\n",
    "\n",
    "# To device\n",
    "x_sig_train, x_sig_test = x_sig_train.to(sig_config[\"device\"]), x_sig_test.to(sig_config[\"device\"])"
   ]
  },
  {
   "cell_type": "code",
   "execution_count": 7,
   "metadata": {},
   "outputs": [],
   "source": [
    "# For degree = 3\n",
    "hidden_dim_degree3 = [input_dim,7,3] # input_dim = 14\n",
    "hidden_dim_degree4 = [input_dim,15,7] # input_dim = 30\n",
    "hidden_dim_degree5 = [input_dim,32,16] # input_dim = 62"
   ]
  },
  {
   "cell_type": "markdown",
   "metadata": {},
   "source": [
    "Initialize models"
   ]
  },
  {
   "cell_type": "code",
   "execution_count": 8,
   "metadata": {},
   "outputs": [
    {
     "name": "stdout",
     "output_type": "stream",
     "text": [
      "Input tensor shape: torch.Size([985, 14])\n",
      "Hidden dims: [14, 7, 3]\n",
      "Epoch 0 loss 1.204512\n",
      "Epoch 100 loss 0.508713\n",
      "Epoch 200 loss 0.569742\n",
      "Epoch 300 loss 1.317153\n",
      "Epoch 400 loss 0.485645\n",
      "Epoch 500 loss 0.650923\n",
      "Epoch 600 loss 0.456017\n",
      "Epoch 700 loss 0.400280\n",
      "Epoch 800 loss 0.539389\n",
      "Epoch 900 loss 0.977718\n",
      "Epoch 1000 loss 1.048061\n",
      "min_loss: 0.305935\n"
     ]
    }
   ],
   "source": [
    "# VAE\n",
    "model_vae = VAE(x_aug_sig=x_sig_train,epoch=6000,batch_size=128,device=\"cuda\",hidden_dims=hidden_dim_degree3)\n",
    "optimizer = torch.optim.Adam(model_vae.parameters(), lr=1e-4)\n",
    "VAE_train(model_vae,optimizer=optimizer)"
   ]
  },
  {
   "cell_type": "code",
   "execution_count": 9,
   "metadata": {},
   "outputs": [
    {
     "name": "stdout",
     "output_type": "stream",
     "text": [
      "Input tensor shape: torch.Size([985, 14])\n",
      "Hidden dims: [14, 7, 3]\n",
      "Beta: 3\n",
      "Epoch 0 loss 31.404409\n",
      "Epoch 100 loss 20.957376\n",
      "Epoch 200 loss 32.084732\n",
      "Epoch 300 loss 8.619654\n",
      "Epoch 400 loss 9.748044\n",
      "min_loss: 5.136885\n"
     ]
    }
   ],
   "source": [
    "# Beta-VAE\n",
    "model_betavae = BetaVAE(x_sig_train,6000,128,beta=3,device='cuda',hidden_dims=hidden_dim_degree3)\n",
    "optimizer = torch.optim.Adam(model_betavae.parameters(), lr=1e-4)\n",
    "BetaVAE_train(model=model_betavae,optimizer=optimizer)"
   ]
  }
 ],
 "metadata": {
  "kernelspec": {
   "display_name": "siggan",
   "language": "python",
   "name": "python3"
  },
  "language_info": {
   "codemirror_mode": {
    "name": "ipython",
    "version": 3
   },
   "file_extension": ".py",
   "mimetype": "text/x-python",
   "name": "python",
   "nbconvert_exporter": "python",
   "pygments_lexer": "ipython3",
   "version": "3.8.18"
  }
 },
 "nbformat": 4,
 "nbformat_minor": 2
}
