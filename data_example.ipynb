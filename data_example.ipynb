{
 "cells": [
  {
   "cell_type": "markdown",
   "metadata": {},
   "source": [
    "# Data Preprocessing\n",
    "We consider the opening price of the S&P 500 index (^GSPC), and the following are the steps to preprocess the training data:\n",
    "- Download the data (not shown in this notebook).\n",
    "- Convert it into a PyTorch tensor.\n",
    "- Apply a rolling window.\n",
    "\n",
    "where the last two steps are included in the ``get_stock_price`` function. Then we have to\n",
    "- sample *time* indices,\n",
    "- apply augmentation(s), and \n",
    "- transform the data into signatures."
   ]
  },
  {
   "cell_type": "code",
   "execution_count": 1,
   "metadata": {},
   "outputs": [
    {
     "data": {
      "text/plain": [
       "True"
      ]
     },
     "execution_count": 1,
     "metadata": {},
     "output_type": "execute_result"
    }
   ],
   "source": [
    "import torch\n",
    "torch.cuda.is_available()"
   ]
  },
  {
   "cell_type": "code",
   "execution_count": 2,
   "metadata": {},
   "outputs": [],
   "source": [
    "import os\n",
    "import pandas as pd\n",
    "import signatory\n",
    "from lib.datasets import get_stock_price,sample_indices,train_test_split\n",
    "from lib.aug import augment_path_and_compute_signatures,apply_augmentations,parse_augmentations"
   ]
  },
  {
   "cell_type": "code",
   "execution_count": 3,
   "metadata": {},
   "outputs": [
    {
     "name": "stdout",
     "output_type": "stream",
     "text": [
      "Original data: ^GSPC_1d.csv, shape (1251, 7)\n"
     ]
    }
   ],
   "source": [
    "path = os.path.join(\"datasets\", \"stock\", \"^GSPC_1d.csv\")\n",
    "df = pd.read_csv(path)\n",
    "print(f'Original data: {os.path.basename(path)}, shape {df.shape}')"
   ]
  },
  {
   "cell_type": "code",
   "execution_count": 4,
   "metadata": {},
   "outputs": [],
   "source": [
    "data_config = {\n",
    "    \"ticker\" : \"^GSPC\",\n",
    "    \"interval\" : \"1d\",\n",
    "    \"column\" : 1,  \n",
    "    \"window_size\" : 20,\n",
    "    \"dir\" : \"datasets\",\n",
    "    \"subdir\" : \"stock\"\n",
    "}"
   ]
  },
  {
   "cell_type": "code",
   "execution_count": 5,
   "metadata": {},
   "outputs": [],
   "source": [
    "sig_config = {\n",
    "    \"augmentations\": [\n",
    "        {\"name\": \"AddTime\"},\n",
    "        {\"name\": \"LeadLag\"},\n",
    "    ],\n",
    "    \"device\" : \"cuda:0\",\n",
    "    \"depth\" : 5,\n",
    "}"
   ]
  },
  {
   "cell_type": "markdown",
   "metadata": {},
   "source": [
    "Convert the data into PyTorch tensor."
   ]
  },
  {
   "cell_type": "code",
   "execution_count": 6,
   "metadata": {},
   "outputs": [
    {
     "name": "stdout",
     "output_type": "stream",
     "text": [
      "Rolled data for training, shape torch.Size([1232, 20, 1])\n"
     ]
    }
   ],
   "source": [
    "tensor_data = get_stock_price(data_config)"
   ]
  },
  {
   "cell_type": "markdown",
   "metadata": {},
   "source": [
    "Separate training data and testing data."
   ]
  },
  {
   "cell_type": "code",
   "execution_count": 7,
   "metadata": {},
   "outputs": [],
   "source": [
    "x_real_train, x_real_test = train_test_split(tensor_data, train_test_ratio=0.8, device='CUDA')"
   ]
  },
  {
   "cell_type": "markdown",
   "metadata": {},
   "source": [
    "Apply augmentations. In our experiments, we do not apply augmentations and use the original signatures."
   ]
  },
  {
   "cell_type": "code",
   "execution_count": 8,
   "metadata": {},
   "outputs": [],
   "source": [
    "if sig_config[\"augmentations\"] is not None:\n",
    "    sig_config[\"augmentations\"] = parse_augmentations(sig_config.get('augmentations'))"
   ]
  },
  {
   "cell_type": "code",
   "execution_count": 9,
   "metadata": {},
   "outputs": [
    {
     "name": "stdout",
     "output_type": "stream",
     "text": [
      "Before augmentation shape: torch.Size([985, 20, 1])\n",
      "torch.Size([985, 20, 2])\n",
      "torch.Size([985, 39, 4])\n",
      "After augmentation shape: torch.Size([985, 39, 4])\n"
     ]
    }
   ],
   "source": [
    "y = x_real_train\n",
    "print(\"Before augmentation shape:\",y.shape)\n",
    "if sig_config[\"augmentations\"] is not None:\n",
    "    # Print the tensor shape after each augmentation\n",
    "    y_aug = apply_augmentations(y,sig_config[\"augmentations\"])\n",
    "print(\"After augmentation shape:\",y_aug.shape)"
   ]
  },
  {
   "cell_type": "markdown",
   "metadata": {},
   "source": [
    "Sample time indices. The amount of the sampling is the batch size."
   ]
  },
  {
   "cell_type": "code",
   "execution_count": 10,
   "metadata": {},
   "outputs": [],
   "source": [
    "batch_size = 128    \n",
    "data_size = y_aug.shape[0]\n",
    "time_indices = sample_indices(data_size,batch_size,'cpu')"
   ]
  },
  {
   "cell_type": "markdown",
   "metadata": {},
   "source": [
    "Sample signatures according to ``time_indices``."
   ]
  },
  {
   "cell_type": "code",
   "execution_count": 11,
   "metadata": {},
   "outputs": [
    {
     "name": "stdout",
     "output_type": "stream",
     "text": [
      "torch.Size([128, 39, 4])\n"
     ]
    }
   ],
   "source": [
    "sample = y_aug[time_indices]\n",
    "print(sample.shape)"
   ]
  },
  {
   "cell_type": "markdown",
   "metadata": {},
   "source": [
    "Calculate signature of degree 4."
   ]
  },
  {
   "cell_type": "code",
   "execution_count": 12,
   "metadata": {},
   "outputs": [
    {
     "name": "stdout",
     "output_type": "stream",
     "text": [
      "torch.Size([128, 340])\n"
     ]
    }
   ],
   "source": [
    "sig_sample = signatory.signature(sample,4)\n",
    "print(sig_sample.shape)"
   ]
  },
  {
   "cell_type": "markdown",
   "metadata": {},
   "source": [
    "We will use three test metrics in our experiments: \n",
    "- JS divergence \n",
    "- L2 norm\n",
    "- signature MMD.\n",
    "\n",
    "We verify that the distance two identical signatures is zero.\n",
    "For the L2 norm and JSD, we will take the mean over the batch dimension for convenience."
   ]
  },
  {
   "cell_type": "code",
   "execution_count": 13,
   "metadata": {},
   "outputs": [],
   "source": [
    "def kl_divergence(P, Q, eps=1e-10):\n",
    "    \"\"\"\n",
    "    Compute KL divergence between two sets of distributions.\n",
    "    \n",
    "    Args:\n",
    "        P (torch.Tensor): Tensor of shape [batch, dim], the first distribution.\n",
    "        Q (torch.Tensor): Tensor of shape [batch, dim], the second distribution.\n",
    "        eps (float): Small constant to avoid numerical instability (default: 1e-10).\n",
    "    \n",
    "    Returns:\n",
    "        kl (torch.Tensor): KL divergence for each batch, shape [batch].\n",
    "        kl_scalar (torch.Tensor): Scalar KL divergence (mean over batches).\n",
    "    \"\"\"\n",
    "    # Add epsilon to avoid log(0) or division by zero\n",
    "    P = P + eps\n",
    "    Q = Q + eps\n",
    "    \n",
    "    # Normalize over the dim dimension to ensure they are probability distributions\n",
    "    P = P / P.sum(dim=-1, keepdim=True)\n",
    "    Q = Q / Q.sum(dim=-1, keepdim=True)\n",
    "    \n",
    "    # Compute KL divergence: P * log(P / Q)\n",
    "    kl = P * torch.log(P / Q)  # Element-wise operation\n",
    "    kl = kl.sum(dim=-1)        # Sum over dim, resulting in shape [batch]\n",
    "    \n",
    "    # Reduce to a scalar (mean over batches)\n",
    "    kl_scalar = kl.mean()\n",
    "    \n",
    "    return kl, kl_scalar"
   ]
  },
  {
   "cell_type": "code",
   "execution_count": 14,
   "metadata": {},
   "outputs": [],
   "source": [
    "def mmd_loss(S_X: torch.Tensor, S_Y: torch.Tensor) -> torch.Tensor:\n",
    "    '''\n",
    "    S_X: torch.Tensor of shape (batch_X, dim) - precomputed signatures of paths\n",
    "    S_Y: torch.Tensor of shape (batch_Y, dim) - precomputed signatures of paths\n",
    "    '''\n",
    "    # Compute Gram matrices using inner product of signatures\n",
    "    K_XX = S_X @ S_X.T\n",
    "    K_YY = S_Y @ S_Y.T\n",
    "    K_XY = S_X @ S_Y.T\n",
    "\n",
    "    # Get the number of samples in X and Y\n",
    "    n = S_X.shape[0]\n",
    "    m = S_Y.shape[0]\n",
    "\n",
    "    # Compute the unbiased MMD statistic\n",
    "    # Sum off-diagonal elements of K_XX and K_YY\n",
    "    sum_XX = torch.sum(K_XX) - torch.trace(K_XX)\n",
    "    sum_YY = torch.sum(K_YY) - torch.trace(K_YY)\n",
    "    sum_XY = torch.sum(K_XY)\n",
    "\n",
    "    # Compute MMD^2\n",
    "    mmd_squared = (sum_XX / (n * (n - 1)) + sum_YY / (m * (m - 1)) - 2 * sum_XY / (n * m))\n",
    "\n",
    "    return mmd_squared"
   ]
  },
  {
   "cell_type": "code",
   "execution_count": 17,
   "metadata": {},
   "outputs": [
    {
     "name": "stdout",
     "output_type": "stream",
     "text": [
      "Mean of L2 norm: 0.0\n",
      "Mean of JSD: 0.0\n",
      "MMD loss: -2.474303858629673e+18\n"
     ]
    }
   ],
   "source": [
    "sample1, sample2 = sig_sample, sig_sample\n",
    "# Mean of L2 norm over the batch dimension\n",
    "mse = torch.nn.functional.mse_loss(sample1,sample2) \n",
    "# Mean of KL divergence over the batch dimension\n",
    "_, KLD1 = kl_divergence(sample1,sample2)\n",
    "_, KLD2 = kl_divergence(sample2,sample1)\n",
    "js_mean_batch = (KLD1+KLD2)/2\n",
    "mmd = mmd_loss(sample1,sample2)\n",
    "print(\"Mean of L2 norm: {}\".format(mse.item()))\n",
    "print(\"Mean of JSD: {}\".format(js_mean_batch.item()))\n",
    "print(\"MMD loss: {}\".format(mmd.item()))"
   ]
  }
 ],
 "metadata": {
  "kernelspec": {
   "display_name": "siggan",
   "language": "python",
   "name": "python3"
  },
  "language_info": {
   "codemirror_mode": {
    "name": "ipython",
    "version": 3
   },
   "file_extension": ".py",
   "mimetype": "text/x-python",
   "name": "python",
   "nbconvert_exporter": "python",
   "pygments_lexer": "ipython3",
   "version": "3.8.18"
  }
 },
 "nbformat": 4,
 "nbformat_minor": 2
}
