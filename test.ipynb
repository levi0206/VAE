{
 "cells": [
  {
   "cell_type": "code",
   "execution_count": 1,
   "metadata": {},
   "outputs": [],
   "source": [
    "from torch import optim\n",
    "from lib.datasets import get_stock_price,train_test_split\n",
    "from lib.aug import apply_augmentations,parse_augmentations,sig_normal\n",
    "import torch\n",
    "from torch import nn\n",
    "import torch.nn.functional as F\n",
    "from typing import List\n",
    "from lib.utils import sample_indices,compute_mmd,set_seed\n",
    "import signatory\n",
    "from models.betavae import BetaVAE, BetaVAE_train\n",
    "from models.infovae import InfoVAE, InfoVAE_train\n",
    "from models.cvae import CVAE, CAVE_train"
   ]
  },
  {
   "cell_type": "code",
   "execution_count": 2,
   "metadata": {},
   "outputs": [],
   "source": [
    "set_seed(0)"
   ]
  },
  {
   "cell_type": "code",
   "execution_count": 3,
   "metadata": {},
   "outputs": [],
   "source": [
    "data_config = {\n",
    "    \"ticker\" : \"^GSPC\",\n",
    "    \"interval\" : \"1d\",\n",
    "    \"column\" : 1,  \n",
    "    \"window_size\" : 20,\n",
    "    \"dir\" : \"datasets\",\n",
    "    \"subdir\" : \"stock\"\n",
    "}\n",
    "sig_config = {\n",
    "    \"augmentations\": [{\"name\": \"LeadLag\"}],\n",
    "    \"device\" : \"cuda\",\n",
    "    \"depth\" : 3,\n",
    "}"
   ]
  },
  {
   "cell_type": "code",
   "execution_count": 4,
   "metadata": {},
   "outputs": [],
   "source": [
    "if sig_config[\"augmentations\"] is not None:\n",
    "    sig_config[\"augmentations\"] = parse_augmentations(sig_config.get('augmentations'))"
   ]
  },
  {
   "cell_type": "code",
   "execution_count": 5,
   "metadata": {},
   "outputs": [
    {
     "name": "stdout",
     "output_type": "stream",
     "text": [
      "Rolled data for training, shape torch.Size([1232, 20, 1])\n",
      "x_real_train shape torch.Size([985, 20, 1]), x_real_test shape torch.Size([247, 20, 1])\n",
      "torch.Size([985, 39, 2])\n",
      "torch.Size([247, 39, 2])\n",
      "After augmentation shape: torch.Size([985, 39, 2])\n",
      "x_sig_train shape torch.Size([985, 14]), x_sig_test shape torch.Size([247, 14])\n",
      "input_dim: 14\n"
     ]
    }
   ],
   "source": [
    "tensor_data = get_stock_price(data_config)\n",
    "x_real_train, x_real_test = train_test_split(tensor_data, train_test_ratio=0.8, device=sig_config[\"device\"])\n",
    "print(\"x_real_train shape {}, x_real_test shape {}\".format(x_real_train.shape,x_real_test.shape))\n",
    "\n",
    "if sig_config[\"augmentations\"] is not None:\n",
    "    # Print the tensor shape after each augmentation\n",
    "    x_aug_train, x_aug_test = apply_augmentations(x_real_train,sig_config[\"augmentations\"]), apply_augmentations(x_real_test,sig_config[\"augmentations\"])\n",
    "print(\"After augmentation shape:\",x_aug_train.shape)\n",
    "\n",
    "# To signature\n",
    "x_sig_train, x_sig_test = signatory.signature(x_aug_train,sig_config[\"depth\"]),signatory.signature(x_aug_test,sig_config[\"depth\"])\n",
    "print(\"x_sig_train shape {}, x_sig_test shape {}\".format(x_sig_train.shape,x_sig_test.shape))\n",
    "input_dim = x_sig_train.shape[1]\n",
    "print(\"input_dim: {}\".format(input_dim))\n",
    "\n",
    "# Normalize\n",
    "x_sig_train, x_sig_test = sig_normal(x_sig_train,True), sig_normal(x_sig_test,True)\n",
    "\n",
    "# To device\n",
    "x_sig_train, x_sig_test = x_sig_train.to(sig_config[\"device\"]), x_sig_test.to(sig_config[\"device\"])"
   ]
  },
  {
   "cell_type": "code",
   "execution_count": 6,
   "metadata": {},
   "outputs": [],
   "source": [
    "model_config = {\n",
    "    \"hidden_dims\" : [input_dim,8,2],\n",
    "    \"device\" : \"cuda:0\",\n",
    "}"
   ]
  },
  {
   "cell_type": "code",
   "execution_count": 7,
   "metadata": {},
   "outputs": [
    {
     "name": "stdout",
     "output_type": "stream",
     "text": [
      "Input tensor shape: torch.Size([985, 14])\n",
      "Hidden dims: [14, 8, 2]\n",
      "Beta: 4\n",
      "Epoch 0 loss 16.326134\n",
      "Epoch 100 loss 6.579025\n",
      "Epoch 200 loss 7.514745\n",
      "Epoch 300 loss 18.124788\n",
      "Epoch 400 loss 6.092826\n",
      "min_loss: 4.210443\n"
     ]
    }
   ],
   "source": [
    "model_betavae = BetaVAE(x_sig_train,6000,128,beta=4,device=model_config[\"device\"],hidden_dims=model_config[\"hidden_dims\"])\n",
    "optimizer = torch.optim.Adam(model_betavae.parameters(), lr=1e-4)\n",
    "BetaVAE_train(model=model_betavae,optimizer=optimizer)"
   ]
  },
  {
   "cell_type": "code",
   "execution_count": 8,
   "metadata": {},
   "outputs": [],
   "source": [
    "model_config = {\n",
    "    \"hidden_dims\" : [input_dim,7,3],\n",
    "    \"device\" : \"cuda:0\",\n",
    "}"
   ]
  },
  {
   "cell_type": "code",
   "execution_count": 9,
   "metadata": {},
   "outputs": [
    {
     "name": "stdout",
     "output_type": "stream",
     "text": [
      "Input tensor shape: torch.Size([985, 14])\n",
      "Hidden dims: [14, 7, 3]\n",
      "Beta: 4\n",
      "Epoch 0 loss 5.162140\n",
      "Epoch 100 loss 39.749172\n",
      "Epoch 200 loss 29.859468\n",
      "Epoch 300 loss 8.683198\n",
      "Epoch 400 loss 15.206092\n",
      "min_loss: 3.570865\n"
     ]
    }
   ],
   "source": [
    "model_betavae = BetaVAE(x_sig_train,6000,128,beta=4,device=model_config[\"device\"],hidden_dims=model_config[\"hidden_dims\"])\n",
    "optimizer = torch.optim.Adam(model_betavae.parameters(), lr=1e-4)\n",
    "BetaVAE_train(model=model_betavae,optimizer=optimizer)"
   ]
  },
  {
   "cell_type": "code",
   "execution_count": 10,
   "metadata": {},
   "outputs": [],
   "source": [
    "model_config = {\n",
    "    \"hidden_dims\" : [input_dim,10,5],\n",
    "    \"device\" : \"cuda:0\",\n",
    "}"
   ]
  },
  {
   "cell_type": "code",
   "execution_count": 11,
   "metadata": {},
   "outputs": [
    {
     "name": "stdout",
     "output_type": "stream",
     "text": [
      "Input tensor shape: torch.Size([985, 14])\n",
      "Hidden dims: [14, 10, 5]\n",
      "Beta: 4\n",
      "Epoch 0 loss 18.421915\n"
     ]
    },
    {
     "name": "stdout",
     "output_type": "stream",
     "text": [
      "Epoch 100 loss 29.711716\n",
      "Epoch 200 loss 7.451123\n",
      "Epoch 300 loss 15.040281\n",
      "Epoch 400 loss 30.163996\n",
      "min_loss: 4.223477\n"
     ]
    }
   ],
   "source": [
    "model_betavae = BetaVAE(x_sig_train,6000,128,beta=4,device=model_config[\"device\"],hidden_dims=model_config[\"hidden_dims\"])\n",
    "optimizer = torch.optim.Adam(model_betavae.parameters(), lr=1e-4)\n",
    "BetaVAE_train(model=model_betavae,optimizer=optimizer)"
   ]
  }
 ],
 "metadata": {
  "kernelspec": {
   "display_name": "siggan",
   "language": "python",
   "name": "python3"
  },
  "language_info": {
   "codemirror_mode": {
    "name": "ipython",
    "version": 3
   },
   "file_extension": ".py",
   "mimetype": "text/x-python",
   "name": "python",
   "nbconvert_exporter": "python",
   "pygments_lexer": "ipython3",
   "version": "3.8.18"
  }
 },
 "nbformat": 4,
 "nbformat_minor": 2
}
