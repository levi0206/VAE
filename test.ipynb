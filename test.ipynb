{
 "cells": [
  {
   "cell_type": "code",
   "execution_count": 1,
   "metadata": {},
   "outputs": [],
   "source": [
    "from torch import optim\n",
    "from lib.datasets import get_stock_price,train_test_split\n",
    "from lib.aug import apply_augmentations,parse_augmentations\n",
    "import torch\n",
    "from torch import nn\n",
    "import torch.nn.functional as F\n",
    "from typing import List\n",
    "from lib.utils import sample_indices,compute_mmd\n"
   ]
  },
  {
   "cell_type": "code",
   "execution_count": 2,
   "metadata": {},
   "outputs": [],
   "source": [
    "data_config = {\n",
    "    \"ticker\" : \"^GSPC\",\n",
    "    \"interval\" : \"1d\",\n",
    "    \"column\" : 1,  \n",
    "    \"window_size\" : 20,\n",
    "    \"dir\" : \"datasets\",\n",
    "    \"subdir\" : \"stock\"\n",
    "}\n",
    "sig_config = {\n",
    "    \"augmentations\": [\n",
    "        {\"name\": \"AddTime\"},\n",
    "        {\"name\": \"LeadLag\"},\n",
    "    ],\n",
    "    \"device\" : \"cuda:0\",\n",
    "    \"depth\" : 4,\n",
    "}"
   ]
  },
  {
   "cell_type": "code",
   "execution_count": 3,
   "metadata": {},
   "outputs": [
    {
     "name": "stdout",
     "output_type": "stream",
     "text": [
      "Rolled data for training, shape torch.Size([1232, 20, 1])\n",
      "Before augmentation shape: torch.Size([985, 20, 1])\n",
      "torch.Size([985, 20, 2])\n",
      "torch.Size([985, 39, 4])\n",
      "After augmentation shape: torch.Size([985, 39, 4])\n"
     ]
    }
   ],
   "source": [
    "tensor_data = get_stock_price(data_config)\n",
    "x_real_train, x_real_test = train_test_split(tensor_data, train_test_ratio=0.8, device=sig_config[\"device\"])\n",
    "if sig_config[\"augmentations\"] is not None:\n",
    "    sig_config[\"augmentations\"] = parse_augmentations(sig_config.get('augmentations'))\n",
    "print(\"Before augmentation shape:\",x_real_train.shape)\n",
    "if sig_config[\"augmentations\"] is not None:\n",
    "    # Print the tensor shape after each augmentation\n",
    "    x_aug_sig = apply_augmentations(x_real_train,sig_config[\"augmentations\"])\n",
    "    # Input dimension of encoder\n",
    "    # We'll flat the tensor\n",
    "    input_dim = x_aug_sig.shape[1]*x_aug_sig.shape[2]\n",
    "print(\"After augmentation shape:\",x_aug_sig.shape)\n",
    "x_aug_sig = x_aug_sig.to(sig_config[\"device\"])"
   ]
  },
  {
   "cell_type": "code",
   "execution_count": 4,
   "metadata": {},
   "outputs": [],
   "source": [
    "# from models.infovae import InfoVAE, InfoVAE_train\n",
    "# # Training loop\n",
    "# vae = InfoVAE(x_aug_sig, epoch=100, batch_size=128, hidden_dims=[156, 64, 32], device='cuda')\n",
    "# optimizer = torch.optim.Adam(vae.parameters(), lr=1e-3)\n",
    "\n",
    "# for epoch in range(vae.epoch):\n",
    "#     # Sample batch\n",
    "#     indices = torch.randperm(x_aug_sig.size(0))[:vae.batch_size]\n",
    "#     batch = x_aug_sig[indices].to('cuda')  # [128, 39, 4]\n",
    "    \n",
    "#     # Forward pass\n",
    "#     mean, log_var, z = vae.encode(batch)\n",
    "#     reconstructed = vae.decode(z)\n",
    "    \n",
    "#     # Compute loss\n",
    "#     total_loss= vae.loss(mean, log_var, batch, reconstructed, lambda_mmd=10)\n",
    "    \n",
    "#     # Backpropagation\n",
    "#     optimizer.zero_grad()\n",
    "#     total_loss.backward()\n",
    "#     optimizer.step()"
   ]
  },
  {
   "cell_type": "code",
   "execution_count": null,
   "metadata": {},
   "outputs": [
    {
     "name": "stdout",
     "output_type": "stream",
     "text": [
      "Epoch 0 loss 9265150.0\n",
      "Epoch 500 loss 3045.32958984375\n",
      "Epoch 1000 loss 3797.83837890625\n",
      "Epoch 1500 loss 2912.18017578125\n",
      "Epoch 2000 loss 3642.317138671875\n"
     ]
    }
   ],
   "source": [
    "# from models.wae import WAE,WAE_train\n",
    "\n",
    "# # Model hyperparameters\n",
    "# lr = 1e-3  # Learning rate\n",
    "# batch_size = 128\n",
    "# epoch = 20001\n",
    "# latent_dim = 20  # Latent dimension\n",
    "# hidden_dims = [156, 100, latent_dim]  # Hidden dimensions\n",
    "\n",
    "# wae = WAE(\n",
    "#     x_aug_sig=x_aug_sig,\n",
    "#     epoch=epoch,\n",
    "#     batch_size=batch_size,\n",
    "#     hidden_dims=hidden_dims,\n",
    "#     latent_dim=latent_dim,\n",
    "#     device='cuda'\n",
    "# )\n",
    "# optimizer = torch.optim.Adam(wae.parameters(), lr=lr)\n",
    "\n",
    "# # Train the model\n",
    "# WAE_train(wae, optimizer)"
   ]
  }
 ],
 "metadata": {
  "kernelspec": {
   "display_name": "siggan",
   "language": "python",
   "name": "python3"
  },
  "language_info": {
   "codemirror_mode": {
    "name": "ipython",
    "version": 3
   },
   "file_extension": ".py",
   "mimetype": "text/x-python",
   "name": "python",
   "nbconvert_exporter": "python",
   "pygments_lexer": "ipython3",
   "version": "3.8.18"
  }
 },
 "nbformat": 4,
 "nbformat_minor": 2
}
