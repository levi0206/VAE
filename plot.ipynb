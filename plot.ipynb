{
 "cells": [
  {
   "cell_type": "code",
   "execution_count": 1,
   "metadata": {},
   "outputs": [],
   "source": [
    "import matplotlib.pyplot as plt\n",
    "import numpy as np"
   ]
  },
  {
   "cell_type": "markdown",
   "metadata": {},
   "source": [
    "Plot test results for the stock."
   ]
  },
  {
   "cell_type": "code",
   "execution_count": 2,
   "metadata": {},
   "outputs": [],
   "source": [
    "vae_d3 = [1.9547979831695557, 0.04277116060256958, 0.3127082884311676]\n",
    "betavae_d3 = [1.9801794290542603, -0.013278365135192871, 0.3105798661708832]\n",
    "infovae_d3 = [2.082566976547241, 0.3941463232040405, 0.31102630496025085]\n",
    "wae_d3 = [1.9618104696273804, 0.01708132028579712, 0.31478625535964966]\n",
    "\n",
    "vae_d4 = [1.8204433917999268, 1.243423581123352, 0.27283793687820435]\n",
    "betavae_d4 = [1.8724522590637207, 2.002256393432617, 0.272980660200119]\n",
    "infovae_d4 = [1.9158434867858887, 2.6492464542388916, 0.27292272448539734]\n",
    "wae_d4 = [1.8207640647888184, 1.190171241760254, 0.27292928099632263]\n",
    "\n",
    "vae_d5 = [2.0481173992156982, 2.925053358078003, 0.26442262530326843]\n",
    "betavae_d5 = [2.178828001022339, 4.70975923538208, 0.26442262530326843]\n",
    "infovae_d5 = [2.0393199920654297, 2.9667372703552246, 0.26442378759384155]\n",
    "wae_d5 = [2.102574110031128, 3.4839935302734375, 0.2644226849079132]\n",
    "\n",
    "data = {\n",
    "    'VAE': [vae_d3, vae_d4, vae_d5],\n",
    "    'Beta-VAE': [betavae_d3, betavae_d4, betavae_d5],\n",
    "    'Info-VAE': [infovae_d3, infovae_d4, infovae_d5],\n",
    "    'WAE': [wae_d3, wae_d4, wae_d5]\n",
    "}\n",
    "models = ['VAE', 'Beta-VAE', 'Info-VAE', 'WAE']\n",
    "metrics = ['L2', 'JS', 'MMD']\n",
    "outputs = ['$d=3$', '$d=4$', '$d=5$']"
   ]
  },
  {
   "cell_type": "code",
   "execution_count": 3,
   "metadata": {},
   "outputs": [],
   "source": [
    "# Create one figure per model\n",
    "for model in models:\n",
    "    fig, ax = plt.subplots(figsize=(8, 5))\n",
    "    bar_width = 0.25\n",
    "    index = np.arange(len(outputs))\n",
    "\n",
    "    # Plot bars for each metric\n",
    "    for i, metric in enumerate(metrics):\n",
    "        metric_values = [data[model][j][i] for j in range(3)]  # Extract metric across outputs\n",
    "        ax.bar(index + i * bar_width, metric_values, bar_width, label=metric)\n",
    "\n",
    "    # Customize\n",
    "    ax.set_xlabel('Signature degree')\n",
    "    ax.set_ylabel('Metric Values')\n",
    "    # ax.set_title(f'Comparison of Metrics for {model} Across Outputs')\n",
    "    ax.set_xticks(index + bar_width * (len(metrics) - 1) / 2)\n",
    "    ax.set_xticklabels(outputs)\n",
    "    ax.legend()\n",
    "    ax.grid(True, linestyle='--', alpha=0.7)\n",
    "\n",
    "    # Save\n",
    "    import os\n",
    "    os.makedirs(\"assets\", exist_ok=True)\n",
    "    plt.savefig(f'assets/sig_comparison/{model}_across_dergee.png', dpi=300, bbox_inches='tight')\n",
    "    plt.close()  # Close figure to free memory"
   ]
  },
  {
   "cell_type": "code",
   "execution_count": 4,
   "metadata": {},
   "outputs": [],
   "source": [
    "# Create one figure per output\n",
    "for i, output in enumerate(outputs):\n",
    "    fig, ax = plt.subplots(figsize=(10, 6))\n",
    "    bar_width = 0.25\n",
    "    index = np.arange(len(models))\n",
    "\n",
    "    # Plot bars for each metric\n",
    "    for j, metric in enumerate(metrics):\n",
    "        metric_values = [data[model][i][j] for model in models]  # Extract metric for this output\n",
    "        ax.bar(index + j * bar_width, metric_values, bar_width, label=metric)\n",
    "\n",
    "    # Customize\n",
    "    ax.set_xlabel('Models')\n",
    "    ax.set_ylabel('Metric Values')\n",
    "    # ax.set_title(f'Comparison of Metrics Across Models for {output}')\n",
    "    ax.set_xticks(index + bar_width * (len(metrics) - 1) / 2)\n",
    "    ax.set_xticklabels(models)\n",
    "    ax.legend()\n",
    "    ax.grid(True, linestyle='--', alpha=0.7)\n",
    "\n",
    "    # Save\n",
    "    import os\n",
    "    os.makedirs(\"assets\", exist_ok=True)\n",
    "    plt.savefig(f'assets/model_comparison/metrics_{output.replace(\" \", \"_\").lower()}.png', dpi=300, bbox_inches='tight')\n",
    "    plt.close()  # Close figure to free memory"
   ]
  }
 ],
 "metadata": {
  "kernelspec": {
   "display_name": "siggan",
   "language": "python",
   "name": "python3"
  },
  "language_info": {
   "codemirror_mode": {
    "name": "ipython",
    "version": 3
   },
   "file_extension": ".py",
   "mimetype": "text/x-python",
   "name": "python",
   "nbconvert_exporter": "python",
   "pygments_lexer": "ipython3",
   "version": "3.8.18"
  }
 },
 "nbformat": 4,
 "nbformat_minor": 2
}
